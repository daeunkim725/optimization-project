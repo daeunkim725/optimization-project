    {
      "cell_type": "markdown",
      "id": "c17bbe55",
      "metadata": {
        "id": "c17bbe55"
      },
      "source": [
        "## House Price Modeling"
      ]
    },
    {
      "cell_type": "markdown",
      "id": "d109fe91",
      "metadata": {
        "id": "d109fe91"
      },
      "source": [
        "You are given data about houses and are tasked with building a model to predict the sell price of these houses. For the data, you have 545 total samples with 11 features:\n",
        "\n",
        "| Feature          | Description |\n",
        "| ---------------- | ----------- |\n",
        "| area             | the area in 1000s of square feet                                  |\n",
        "| bedrooms         |  the number of bedrooms                                           |\n",
        "| bathrooms        | the number of bathrooms                                           |\n",
        "| stories          | the number of stores                                              |\n",
        "| mainroad         | 1 if the house is connected to the main road and 0 otherwise      |\n",
        "| guestroom        | the number of guestrooms                                          |\n",
        "| basement         | 1 if the house has a basement and 0 otherwise                     |\n",
        "| airconditioning  | 1 if the house has centralized AC and 0 otherwise                 |\n",
        "| parking          | the number of extra parking spaces                                |\n",
        "| prefarea         | 1 if the house is located in a 'preferred area' and 0 otherwise   |\n",
        "| furnished        | 1 if the house comes prefurnished and 0 otherwise                 |\n",
        "\n",
        "The data also contains a price column, which is the sell price of the house in millions of USD.\n",
        "For modeling purposes, we split the data into a training and testing set with an 80/20 split.\n",
        "\n",
        "To model prices, you decide to build a linear model. That is, your goal is to determine a vector of weights $\\theta$ to approximately fit: $y \\approx X \\theta$, where $X$ is the matrix of features and $y$ is the vector of prices. However, your cousin is a realtor and told you that all these features contribute positively to the price of the house. You trust your cousin and you are including this information by enforcing that **all weights in the vector $\\theta$ are nonnegative**.\n",
        "\n",
        "For this project, we will fit the linear model and handle the nonnegativity in a few different ways.\n",
        "\n",
        "Run the following cells to import the data. Note that after importing the data and separating out $X$ and $y$, we prepend a column of ones to the feature matrices in order to learn an offset."
      ]
    },
    {
      "cell_type": "code",
      "execution_count": null,
      "id": "781e9f04",
      "metadata": {
        "id": "781e9f04"
      },
      "outputs": [],
      "source": [
        "import numpy as np\n",
        "np.set_printoptions(precision=4)  # Print few decimal places\n",
        "np.set_printoptions(suppress=True)  # Suppress scientific notation\n",
        "import cvxpy as cp\n",
        "import pandas as pd\n",
        "from numpy.linalg import cholesky as llt\n",
        "import matplotlib.pyplot as plt"
      ]
    },
    {
      "cell_type": "code",
      "execution_count": null,
      "id": "5614a5f4",
      "metadata": {
        "scrolled": true,
        "colab": {
          "base_uri": "https://localhost:8080/",
          "height": 444
        },
        "id": "5614a5f4",
        "outputId": "04cffcf3-b1e9-47c1-e5c5-032cd5a2df4d"
      },
      "outputs": [
        {
          "output_type": "execute_result",
          "data": {
            "text/plain": [
              "     price   area  bedrooms  bathrooms  stories  mainroad  guestroom  \\\n",
              "0    1.750   3.62       2.0        1.0      1.0       1.0        0.0   \n",
              "1    2.695   4.00       2.0        1.0      1.0       1.0        0.0   \n",
              "2    2.870   3.04       2.0        1.0      1.0       0.0        0.0   \n",
              "3    2.590   3.60       2.0        1.0      1.0       1.0        0.0   \n",
              "4    4.515   9.86       3.0        1.0      1.0       1.0        0.0   \n",
              "..     ...    ...       ...        ...      ...       ...        ...   \n",
              "431  6.790   4.00       3.0        2.0      2.0       1.0        0.0   \n",
              "432  4.305  10.36       2.0        1.0      1.0       1.0        0.0   \n",
              "433  9.800   5.75       3.0        2.0      4.0       1.0        1.0   \n",
              "434  3.710   3.60       3.0        1.0      1.0       1.0        0.0   \n",
              "435  5.040   6.60       3.0        1.0      1.0       1.0        1.0   \n",
              "\n",
              "     basement  airconditioning  parking  prefarea  furnished  \n",
              "0         0.0              0.0      0.0       0.0        0.0  \n",
              "1         0.0              0.0      0.0       0.0        0.0  \n",
              "2         0.0              0.0      0.0       0.0        0.0  \n",
              "3         0.0              0.0      0.0       0.0        0.0  \n",
              "4         0.0              0.0      0.0       0.0        0.0  \n",
              "..        ...              ...      ...       ...        ...  \n",
              "431       1.0              1.0      0.0       1.0        0.0  \n",
              "432       0.0              0.0      1.0       1.0        0.0  \n",
              "433       0.0              1.0      1.0       1.0        0.0  \n",
              "434       0.0              0.0      1.0       0.0        0.0  \n",
              "435       1.0              0.0      0.0       1.0        1.0  \n",
              "\n",
              "[436 rows x 12 columns]"
            ],
            "text/html": [
              "\n",
              "  <div id=\"df-809d8b74-2687-41bb-ab87-cbd5e1fd9721\" class=\"colab-df-container\">\n",
              "    <div>\n",
              "<style scoped>\n",
              "    .dataframe tbody tr th:only-of-type {\n",
              "        vertical-align: middle;\n",
              "    }\n",
              "\n",
              "    .dataframe tbody tr th {\n",
              "        vertical-align: top;\n",
              "    }\n",
              "\n",
              "    .dataframe thead th {\n",
              "        text-align: right;\n",
              "    }\n",
              "</style>\n",
              "<table border=\"1\" class=\"dataframe\">\n",
              "  <thead>\n",
              "    <tr style=\"text-align: right;\">\n",
              "      <th></th>\n",
              "      <th>price</th>\n",
              "      <th>area</th>\n",
              "      <th>bedrooms</th>\n",
              "      <th>bathrooms</th>\n",
              "      <th>stories</th>\n",
              "      <th>mainroad</th>\n",
              "      <th>guestroom</th>\n",
              "      <th>basement</th>\n",
              "      <th>airconditioning</th>\n",
              "      <th>parking</th>\n",
              "      <th>prefarea</th>\n",
              "      <th>furnished</th>\n",
              "    </tr>\n",
              "  </thead>\n",
              "  <tbody>\n",
              "    <tr>\n",
              "      <th>0</th>\n",
              "      <td>1.750</td>\n",
              "      <td>3.62</td>\n",
              "      <td>2.0</td>\n",
              "      <td>1.0</td>\n",
              "      <td>1.0</td>\n",
              "      <td>1.0</td>\n",
              "      <td>0.0</td>\n",
              "      <td>0.0</td>\n",
              "      <td>0.0</td>\n",
              "      <td>0.0</td>\n",
              "      <td>0.0</td>\n",
              "      <td>0.0</td>\n",
              "    </tr>\n",
              "    <tr>\n",
              "      <th>1</th>\n",
              "      <td>2.695</td>\n",
              "      <td>4.00</td>\n",
              "      <td>2.0</td>\n",
              "      <td>1.0</td>\n",
              "      <td>1.0</td>\n",
              "      <td>1.0</td>\n",
              "      <td>0.0</td>\n",
              "      <td>0.0</td>\n",
              "      <td>0.0</td>\n",
              "      <td>0.0</td>\n",
              "      <td>0.0</td>\n",
              "      <td>0.0</td>\n",
              "    </tr>\n",
              "    <tr>\n",
              "      <th>2</th>\n",
              "      <td>2.870</td>\n",
              "      <td>3.04</td>\n",
              "      <td>2.0</td>\n",
              "      <td>1.0</td>\n",
              "      <td>1.0</td>\n",
              "      <td>0.0</td>\n",
              "      <td>0.0</td>\n",
              "      <td>0.0</td>\n",
              "      <td>0.0</td>\n",
              "      <td>0.0</td>\n",
              "      <td>0.0</td>\n",
              "      <td>0.0</td>\n",
              "    </tr>\n",
              "    <tr>\n",
              "      <th>3</th>\n",
              "      <td>2.590</td>\n",
              "      <td>3.60</td>\n",
              "      <td>2.0</td>\n",
              "      <td>1.0</td>\n",
              "      <td>1.0</td>\n",
              "      <td>1.0</td>\n",
              "      <td>0.0</td>\n",
              "      <td>0.0</td>\n",
              "      <td>0.0</td>\n",
              "      <td>0.0</td>\n",
              "      <td>0.0</td>\n",
              "      <td>0.0</td>\n",
              "    </tr>\n",
              "    <tr>\n",
              "      <th>4</th>\n",
              "      <td>4.515</td>\n",
              "      <td>9.86</td>\n",
              "      <td>3.0</td>\n",
              "      <td>1.0</td>\n",
              "      <td>1.0</td>\n",
              "      <td>1.0</td>\n",
              "      <td>0.0</td>\n",
              "      <td>0.0</td>\n",
              "      <td>0.0</td>\n",
              "      <td>0.0</td>\n",
              "      <td>0.0</td>\n",
              "      <td>0.0</td>\n",
              "    </tr>\n",
              "    <tr>\n",
              "      <th>...</th>\n",
              "      <td>...</td>\n",
              "      <td>...</td>\n",
              "      <td>...</td>\n",
              "      <td>...</td>\n",
              "      <td>...</td>\n",
              "      <td>...</td>\n",
              "      <td>...</td>\n",
              "      <td>...</td>\n",
              "      <td>...</td>\n",
              "      <td>...</td>\n",
              "      <td>...</td>\n",
              "      <td>...</td>\n",
              "    </tr>\n",
              "    <tr>\n",
              "      <th>431</th>\n",
              "      <td>6.790</td>\n",
              "      <td>4.00</td>\n",
              "      <td>3.0</td>\n",
              "      <td>2.0</td>\n",
              "      <td>2.0</td>\n",
              "      <td>1.0</td>\n",
              "      <td>0.0</td>\n",
              "      <td>1.0</td>\n",
              "      <td>1.0</td>\n",
              "      <td>0.0</td>\n",
              "      <td>1.0</td>\n",
              "      <td>0.0</td>\n",
              "    </tr>\n",
              "    <tr>\n",
              "      <th>432</th>\n",
              "      <td>4.305</td>\n",
              "      <td>10.36</td>\n",
              "      <td>2.0</td>\n",
              "      <td>1.0</td>\n",
              "      <td>1.0</td>\n",
              "      <td>1.0</td>\n",
              "      <td>0.0</td>\n",
              "      <td>0.0</td>\n",
              "      <td>0.0</td>\n",
              "      <td>1.0</td>\n",
              "      <td>1.0</td>\n",
              "      <td>0.0</td>\n",
              "    </tr>\n",
              "    <tr>\n",
              "      <th>433</th>\n",
              "      <td>9.800</td>\n",
              "      <td>5.75</td>\n",
              "      <td>3.0</td>\n",
              "      <td>2.0</td>\n",
              "      <td>4.0</td>\n",
              "      <td>1.0</td>\n",
              "      <td>1.0</td>\n",
              "      <td>0.0</td>\n",
              "      <td>1.0</td>\n",
              "      <td>1.0</td>\n",
              "      <td>1.0</td>\n",
              "      <td>0.0</td>\n",
              "    </tr>\n",
              "    <tr>\n",
              "      <th>434</th>\n",
              "      <td>3.710</td>\n",
              "      <td>3.60</td>\n",
              "      <td>3.0</td>\n",
              "      <td>1.0</td>\n",
              "      <td>1.0</td>\n",
              "      <td>1.0</td>\n",
              "      <td>0.0</td>\n",
              "      <td>0.0</td>\n",
              "      <td>0.0</td>\n",
              "      <td>1.0</td>\n",
              "      <td>0.0</td>\n",
              "      <td>0.0</td>\n",
              "    </tr>\n",
              "    <tr>\n",
              "      <th>435</th>\n",
              "      <td>5.040</td>\n",
              "      <td>6.60</td>\n",
              "      <td>3.0</td>\n",
              "      <td>1.0</td>\n",
              "      <td>1.0</td>\n",
              "      <td>1.0</td>\n",
              "      <td>1.0</td>\n",
              "      <td>1.0</td>\n",
              "      <td>0.0</td>\n",
              "      <td>0.0</td>\n",
              "      <td>1.0</td>\n",
              "      <td>1.0</td>\n",
              "    </tr>\n",
              "  </tbody>\n",
              "</table>\n",
              "<p>436 rows × 12 columns</p>\n",
              "</div>\n",
              "    <div class=\"colab-df-buttons\">\n",
              "\n",
              "  <div class=\"colab-df-container\">\n",
              "    <button class=\"colab-df-convert\" onclick=\"convertToInteractive('df-809d8b74-2687-41bb-ab87-cbd5e1fd9721')\"\n",
              "            title=\"Convert this dataframe to an interactive table.\"\n",
              "            style=\"display:none;\">\n",
              "\n",
              "  <svg xmlns=\"http://www.w3.org/2000/svg\" height=\"24px\" viewBox=\"0 -960 960 960\">\n",
              "    <path d=\"M120-120v-720h720v720H120Zm60-500h600v-160H180v160Zm220 220h160v-160H400v160Zm0 220h160v-160H400v160ZM180-400h160v-160H180v160Zm440 0h160v-160H620v160ZM180-180h160v-160H180v160Zm440 0h160v-160H620v160Z\"/>\n",
              "  </svg>\n",
              "    </button>\n",
              "\n",
              "  <style>\n",
              "    .colab-df-container {\n",
              "      display:flex;\n",
              "      gap: 12px;\n",
              "    }\n",
              "\n",
              "    .colab-df-convert {\n",
              "      background-color: #E8F0FE;\n",
              "      border: none;\n",
              "      border-radius: 50%;\n",
              "      cursor: pointer;\n",
              "      display: none;\n",
              "      fill: #1967D2;\n",
              "      height: 32px;\n",
              "      padding: 0 0 0 0;\n",
              "      width: 32px;\n",
              "    }\n",
              "\n",
              "    .colab-df-convert:hover {\n",
              "      background-color: #E2EBFA;\n",
              "      box-shadow: 0px 1px 2px rgba(60, 64, 67, 0.3), 0px 1px 3px 1px rgba(60, 64, 67, 0.15);\n",
              "      fill: #174EA6;\n",
              "    }\n",
              "\n",
              "    .colab-df-buttons div {\n",
              "      margin-bottom: 4px;\n",
              "    }\n",
              "\n",
              "    [theme=dark] .colab-df-convert {\n",
              "      background-color: #3B4455;\n",
              "      fill: #D2E3FC;\n",
              "    }\n",
              "\n",
              "    [theme=dark] .colab-df-convert:hover {\n",
              "      background-color: #434B5C;\n",
              "      box-shadow: 0px 1px 3px 1px rgba(0, 0, 0, 0.15);\n",
              "      filter: drop-shadow(0px 1px 2px rgba(0, 0, 0, 0.3));\n",
              "      fill: #FFFFFF;\n",
              "    }\n",
              "  </style>\n",
              "\n",
              "    <script>\n",
              "      const buttonEl =\n",
              "        document.querySelector('#df-809d8b74-2687-41bb-ab87-cbd5e1fd9721 button.colab-df-convert');\n",
              "      buttonEl.style.display =\n",
              "        google.colab.kernel.accessAllowed ? 'block' : 'none';\n",
              "\n",
              "      async function convertToInteractive(key) {\n",
              "        const element = document.querySelector('#df-809d8b74-2687-41bb-ab87-cbd5e1fd9721');\n",
              "        const dataTable =\n",
              "          await google.colab.kernel.invokeFunction('convertToInteractive',\n",
              "                                                    [key], {});\n",
              "        if (!dataTable) return;\n",
              "\n",
              "        const docLinkHtml = 'Like what you see? Visit the ' +\n",
              "          '<a target=\"_blank\" href=https://colab.research.google.com/notebooks/data_table.ipynb>data table notebook</a>'\n",
              "          + ' to learn more about interactive tables.';\n",
              "        element.innerHTML = '';\n",
              "        dataTable['output_type'] = 'display_data';\n",
              "        await google.colab.output.renderOutput(dataTable, element);\n",
              "        const docLink = document.createElement('div');\n",
              "        docLink.innerHTML = docLinkHtml;\n",
              "        element.appendChild(docLink);\n",
              "      }\n",
              "    </script>\n",
              "  </div>\n",
              "\n",
              "\n",
              "<div id=\"df-532da794-d240-4267-b40e-0d60d4a89736\">\n",
              "  <button class=\"colab-df-quickchart\" onclick=\"quickchart('df-532da794-d240-4267-b40e-0d60d4a89736')\"\n",
              "            title=\"Suggest charts\"\n",
              "            style=\"display:none;\">\n",
              "\n",
              "<svg xmlns=\"http://www.w3.org/2000/svg\" height=\"24px\"viewBox=\"0 0 24 24\"\n",
              "     width=\"24px\">\n",
              "    <g>\n",
              "        <path d=\"M19 3H5c-1.1 0-2 .9-2 2v14c0 1.1.9 2 2 2h14c1.1 0 2-.9 2-2V5c0-1.1-.9-2-2-2zM9 17H7v-7h2v7zm4 0h-2V7h2v10zm4 0h-2v-4h2v4z\"/>\n",
              "    </g>\n",
              "</svg>\n",
              "  </button>\n",
              "\n",
              "<style>\n",
              "  .colab-df-quickchart {\n",
              "      --bg-color: #E8F0FE;\n",
              "      --fill-color: #1967D2;\n",
              "      --hover-bg-color: #E2EBFA;\n",
              "      --hover-fill-color: #174EA6;\n",
              "      --disabled-fill-color: #AAA;\n",
              "      --disabled-bg-color: #DDD;\n",
              "  }\n",
              "\n",
              "  [theme=dark] .colab-df-quickchart {\n",
              "      --bg-color: #3B4455;\n",
              "      --fill-color: #D2E3FC;\n",
              "      --hover-bg-color: #434B5C;\n",
              "      --hover-fill-color: #FFFFFF;\n",
              "      --disabled-bg-color: #3B4455;\n",
              "      --disabled-fill-color: #666;\n",
              "  }\n",
              "\n",
              "  .colab-df-quickchart {\n",
              "    background-color: var(--bg-color);\n",
              "    border: none;\n",
              "    border-radius: 50%;\n",
              "    cursor: pointer;\n",
              "    display: none;\n",
              "    fill: var(--fill-color);\n",
              "    height: 32px;\n",
              "    padding: 0;\n",
              "    width: 32px;\n",
              "  }\n",
              "\n",
              "  .colab-df-quickchart:hover {\n",
              "    background-color: var(--hover-bg-color);\n",
              "    box-shadow: 0 1px 2px rgba(60, 64, 67, 0.3), 0 1px 3px 1px rgba(60, 64, 67, 0.15);\n",
              "    fill: var(--button-hover-fill-color);\n",
              "  }\n",
              "\n",
              "  .colab-df-quickchart-complete:disabled,\n",
              "  .colab-df-quickchart-complete:disabled:hover {\n",
              "    background-color: var(--disabled-bg-color);\n",
              "    fill: var(--disabled-fill-color);\n",
              "    box-shadow: none;\n",
              "  }\n",
              "\n",
              "  .colab-df-spinner {\n",
              "    border: 2px solid var(--fill-color);\n",
              "    border-color: transparent;\n",
              "    border-bottom-color: var(--fill-color);\n",
              "    animation:\n",
              "      spin 1s steps(1) infinite;\n",
              "  }\n",
              "\n",
              "  @keyframes spin {\n",
              "    0% {\n",
              "      border-color: transparent;\n",
              "      border-bottom-color: var(--fill-color);\n",
              "      border-left-color: var(--fill-color);\n",
              "    }\n",
              "    20% {\n",
              "      border-color: transparent;\n",
              "      border-left-color: var(--fill-color);\n",
              "      border-top-color: var(--fill-color);\n",
              "    }\n",
              "    30% {\n",
              "      border-color: transparent;\n",
              "      border-left-color: var(--fill-color);\n",
              "      border-top-color: var(--fill-color);\n",
              "      border-right-color: var(--fill-color);\n",
              "    }\n",
              "    40% {\n",
              "      border-color: transparent;\n",
              "      border-right-color: var(--fill-color);\n",
              "      border-top-color: var(--fill-color);\n",
              "    }\n",
              "    60% {\n",
              "      border-color: transparent;\n",
              "      border-right-color: var(--fill-color);\n",
              "    }\n",
              "    80% {\n",
              "      border-color: transparent;\n",
              "      border-right-color: var(--fill-color);\n",
              "      border-bottom-color: var(--fill-color);\n",
              "    }\n",
              "    90% {\n",
              "      border-color: transparent;\n",
              "      border-bottom-color: var(--fill-color);\n",
              "    }\n",
              "  }\n",
              "</style>\n",
              "\n",
              "  <script>\n",
              "    async function quickchart(key) {\n",
              "      const quickchartButtonEl =\n",
              "        document.querySelector('#' + key + ' button');\n",
              "      quickchartButtonEl.disabled = true;  // To prevent multiple clicks.\n",
              "      quickchartButtonEl.classList.add('colab-df-spinner');\n",
              "      try {\n",
              "        const charts = await google.colab.kernel.invokeFunction(\n",
              "            'suggestCharts', [key], {});\n",
              "      } catch (error) {\n",
              "        console.error('Error during call to suggestCharts:', error);\n",
              "      }\n",
              "      quickchartButtonEl.classList.remove('colab-df-spinner');\n",
              "      quickchartButtonEl.classList.add('colab-df-quickchart-complete');\n",
              "    }\n",
              "    (() => {\n",
              "      let quickchartButtonEl =\n",
              "        document.querySelector('#df-532da794-d240-4267-b40e-0d60d4a89736 button');\n",
              "      quickchartButtonEl.style.display =\n",
              "        google.colab.kernel.accessAllowed ? 'block' : 'none';\n",
              "    })();\n",
              "  </script>\n",
              "</div>\n",
              "\n",
              "  <div id=\"id_de5f4775-54d0-4356-9b43-d86e654a01bf\">\n",
              "    <style>\n",
              "      .colab-df-generate {\n",
              "        background-color: #E8F0FE;\n",
              "        border: none;\n",
              "        border-radius: 50%;\n",
              "        cursor: pointer;\n",
              "        display: none;\n",
              "        fill: #1967D2;\n",
              "        height: 32px;\n",
              "        padding: 0 0 0 0;\n",
              "        width: 32px;\n",
              "      }\n",
              "\n",
              "      .colab-df-generate:hover {\n",
              "        background-color: #E2EBFA;\n",
              "        box-shadow: 0px 1px 2px rgba(60, 64, 67, 0.3), 0px 1px 3px 1px rgba(60, 64, 67, 0.15);\n",
              "        fill: #174EA6;\n",
              "      }\n",
              "\n",
              "      [theme=dark] .colab-df-generate {\n",
              "        background-color: #3B4455;\n",
              "        fill: #D2E3FC;\n",
              "      }\n",
              "\n",
              "      [theme=dark] .colab-df-generate:hover {\n",
              "        background-color: #434B5C;\n",
              "        box-shadow: 0px 1px 3px 1px rgba(0, 0, 0, 0.15);\n",
              "        filter: drop-shadow(0px 1px 2px rgba(0, 0, 0, 0.3));\n",
              "        fill: #FFFFFF;\n",
              "      }\n",
              "    </style>\n",
              "    <button class=\"colab-df-generate\" onclick=\"generateWithVariable('dftrain')\"\n",
              "            title=\"Generate code using this dataframe.\"\n",
              "            style=\"display:none;\">\n",
              "\n",
              "  <svg xmlns=\"http://www.w3.org/2000/svg\" height=\"24px\"viewBox=\"0 0 24 24\"\n",
              "       width=\"24px\">\n",
              "    <path d=\"M7,19H8.4L18.45,9,17,7.55,7,17.6ZM5,21V16.75L18.45,3.32a2,2,0,0,1,2.83,0l1.4,1.43a1.91,1.91,0,0,1,.58,1.4,1.91,1.91,0,0,1-.58,1.4L9.25,21ZM18.45,9,17,7.55Zm-12,3A5.31,5.31,0,0,0,4.9,8.1,5.31,5.31,0,0,0,1,6.5,5.31,5.31,0,0,0,4.9,4.9,5.31,5.31,0,0,0,6.5,1,5.31,5.31,0,0,0,8.1,4.9,5.31,5.31,0,0,0,12,6.5,5.46,5.46,0,0,0,6.5,12Z\"/>\n",
              "  </svg>\n",
              "    </button>\n",
              "    <script>\n",
              "      (() => {\n",
              "      const buttonEl =\n",
              "        document.querySelector('#id_de5f4775-54d0-4356-9b43-d86e654a01bf button.colab-df-generate');\n",
              "      buttonEl.style.display =\n",
              "        google.colab.kernel.accessAllowed ? 'block' : 'none';\n",
              "\n",
              "      buttonEl.onclick = () => {\n",
              "        google.colab.notebook.generateWithVariable('dftrain');\n",
              "      }\n",
              "      })();\n",
              "    </script>\n",
              "  </div>\n",
              "\n",
              "    </div>\n",
              "  </div>\n"
            ],
            "application/vnd.google.colaboratory.intrinsic+json": {
              "type": "dataframe",
              "variable_name": "dftrain",
              "summary": "{\n  \"name\": \"dftrain\",\n  \"rows\": 436,\n  \"fields\": [\n    {\n      \"column\": \"price\",\n      \"properties\": {\n        \"dtype\": \"number\",\n        \"std\": 1.911167038935812,\n        \"min\": 1.75,\n        \"max\": 13.3,\n        \"num_unique_values\": 196,\n        \"samples\": [\n          3.115,\n          12.25,\n          2.975\n        ],\n        \"semantic_type\": \"\",\n        \"description\": \"\"\n      }\n    },\n    {\n      \"column\": \"area\",\n      \"properties\": {\n        \"dtype\": \"number\",\n        \"std\": 2.1392580476394056,\n        \"min\": 1.836,\n        \"max\": 16.2,\n        \"num_unique_values\": 245,\n        \"samples\": [\n          16.2,\n          3.84,\n          8.875\n        ],\n        \"semantic_type\": \"\",\n        \"description\": \"\"\n      }\n    },\n    {\n      \"column\": \"bedrooms\",\n      \"properties\": {\n        \"dtype\": \"number\",\n        \"std\": 0.743302905356249,\n        \"min\": 1.0,\n        \"max\": 6.0,\n        \"num_unique_values\": 6,\n        \"samples\": [\n          2.0,\n          3.0,\n          1.0\n        ],\n        \"semantic_type\": \"\",\n        \"description\": \"\"\n      }\n    },\n    {\n      \"column\": \"bathrooms\",\n      \"properties\": {\n        \"dtype\": \"number\",\n        \"std\": 0.4886349395882768,\n        \"min\": 1.0,\n        \"max\": 3.0,\n        \"num_unique_values\": 3,\n        \"samples\": [\n          1.0,\n          2.0,\n          3.0\n        ],\n        \"semantic_type\": \"\",\n        \"description\": \"\"\n      }\n    },\n    {\n      \"column\": \"stories\",\n      \"properties\": {\n        \"dtype\": \"number\",\n        \"std\": 0.8735603392727437,\n        \"min\": 1.0,\n        \"max\": 4.0,\n        \"num_unique_values\": 4,\n        \"samples\": [\n          2.0,\n          4.0,\n          1.0\n        ],\n        \"semantic_type\": \"\",\n        \"description\": \"\"\n      }\n    },\n    {\n      \"column\": \"mainroad\",\n      \"properties\": {\n        \"dtype\": \"number\",\n        \"std\": 0.3424591763433617,\n        \"min\": 0.0,\n        \"max\": 1.0,\n        \"num_unique_values\": 2,\n        \"samples\": [\n          0.0,\n          1.0\n        ],\n        \"semantic_type\": \"\",\n        \"description\": \"\"\n      }\n    },\n    {\n      \"column\": \"guestroom\",\n      \"properties\": {\n        \"dtype\": \"number\",\n        \"std\": 0.3817725631742259,\n        \"min\": 0.0,\n        \"max\": 1.0,\n        \"num_unique_values\": 2,\n        \"samples\": [\n          1.0,\n          0.0\n        ],\n        \"semantic_type\": \"\",\n        \"description\": \"\"\n      }\n    },\n    {\n      \"column\": \"basement\",\n      \"properties\": {\n        \"dtype\": \"number\",\n        \"std\": 0.4700174216707805,\n        \"min\": 0.0,\n        \"max\": 1.0,\n        \"num_unique_values\": 2,\n        \"samples\": [\n          1.0,\n          0.0\n        ],\n        \"semantic_type\": \"\",\n        \"description\": \"\"\n      }\n    },\n    {\n      \"column\": \"airconditioning\",\n      \"properties\": {\n        \"dtype\": \"number\",\n        \"std\": 0.4683092016856203,\n        \"min\": 0.0,\n        \"max\": 1.0,\n        \"num_unique_values\": 2,\n        \"samples\": [\n          1.0,\n          0.0\n        ],\n        \"semantic_type\": \"\",\n        \"description\": \"\"\n      }\n    },\n    {\n      \"column\": \"parking\",\n      \"properties\": {\n        \"dtype\": \"number\",\n        \"std\": 0.8745888294417001,\n        \"min\": 0.0,\n        \"max\": 3.0,\n        \"num_unique_values\": 4,\n        \"samples\": [\n          1.0,\n          3.0\n        ],\n        \"semantic_type\": \"\",\n        \"description\": \"\"\n      }\n    },\n    {\n      \"column\": \"prefarea\",\n      \"properties\": {\n        \"dtype\": \"number\",\n        \"std\": 0.4308260594901391,\n        \"min\": 0.0,\n        \"max\": 1.0,\n        \"num_unique_values\": 2,\n        \"samples\": [\n          1.0,\n          0.0\n        ],\n        \"semantic_type\": \"\",\n        \"description\": \"\"\n      }\n    },\n    {\n      \"column\": \"furnished\",\n      \"properties\": {\n        \"dtype\": \"number\",\n        \"std\": 0.42945931737841975,\n        \"min\": 0.0,\n        \"max\": 1.0,\n        \"num_unique_values\": 2,\n        \"samples\": [\n          1.0,\n          0.0\n        ],\n        \"semantic_type\": \"\",\n        \"description\": \"\"\n      }\n    }\n  ]\n}"
            }
          },
          "metadata": {},
          "execution_count": 196
        }
      ],
      "source": [
        "dftrain = pd.read_csv('train.csv')\n",
        "dftest = pd.read_csv('test.csv')\n",
        "dftrain  # to look at the training dataset"
      ]
    },
    {
      "cell_type": "code",
      "execution_count": null,
      "id": "65342f6c",
      "metadata": {
        "colab": {
          "base_uri": "https://localhost:8080/"
        },
        "id": "65342f6c",
        "outputId": "d615874d-3d34-48ce-dded-84d709ee1177"
      },
      "outputs": [
        {
          "output_type": "execute_result",
          "data": {
            "text/plain": [
              "((436, 12), (436,), (109, 12), (109,))"
            ]
          },
          "metadata": {},
          "execution_count": 197
        }
      ],
      "source": [
        "Xy_train = dftrain.to_numpy()\n",
        "Xy_test = dftest.to_numpy()\n",
        "\n",
        "# prepending a column of ones to both train and test data\n",
        "X_train = np.column_stack([np.ones(Xy_train.shape[0]), Xy_train[:, 1:]])\n",
        "y_train = Xy_train[:, 0]\n",
        "X_test = np.column_stack([np.ones(Xy_test.shape[0]), Xy_test[:, 1:]])\n",
        "y_test = Xy_test[:, 0]\n",
        "X_train.shape, y_train.shape, X_test.shape, y_test.shape"
      ]
    },
    {
      "cell_type": "code",
      "source": [
        "m, n = X_train.shape"
      ],
      "metadata": {
        "id": "rIttJcXswV6l"
      },
      "id": "rIttJcXswV6l",
      "execution_count": null,
      "outputs": []
    },
    {
      "cell_type": "markdown",
      "id": "2505e940",
      "metadata": {
        "id": "2505e940"
      },
      "source": [
        "For this project, whenever you fit a model in any of the parts, make sure that you train the model using the training data (X_train and y_train).\n",
        "However, when *evaluating* a model, use the normalized train and test errors, which are computed by the following functions:"
      ]
    },
    {
      "cell_type": "code",
      "execution_count": null,
      "id": "4390b6e5",
      "metadata": {
        "id": "4390b6e5"
      },
      "outputs": [],
      "source": [
        "def normalized_test_error(theta):\n",
        "  # Test error calculation\n",
        "    return np.linalg.norm(X_test @ theta - y_test) / np.linalg.norm(y_test)\n",
        "\n",
        "def normalized_train_error(theta):\n",
        "    # Training error calculation\n",
        "    return np.linalg.norm(X_train @ theta - y_train) / np.linalg.norm(y_train)"
      ]
    },
    {
      "cell_type": "markdown",
      "id": "b33c691b",
      "metadata": {
        "id": "b33c691b"
      },
      "source": [
        "## Part A: Least Squares (30 Points)"
      ]
    },
    {
      "cell_type": "markdown",
      "id": "0219fcfa",
      "metadata": {
        "id": "0219fcfa"
      },
      "source": [
        "For this part, we will use least squares. After solving any least squares problem, we will postprocess the output by clipping the negative values to zero. This can be done with `theta_clip = np.maximum(theta, 0)`.\n",
        "\n",
        "1. (10 points) First, we will use least squares to solve the problem. Let the *training residual* be $r = X\\theta - y$. That is, we aim to solve the following problem:\n",
        "\n",
        "$$\n",
        "\\begin{array}{ll}\n",
        "    \\text{minimize} & \\| X\\theta - y \\|_2^2.\n",
        "\\end{array}\n",
        "$$\n",
        "\n",
        "Write the equation that you need to solve to compute the optimal solution $\\theta^\\star$.\n",
        "Solve the least squares problem over training data `X_train` and `y_train`. Then, clip the negative values of $\\theta^\\star$ and report the normalized train and test errors."
      ]
    },
    {
      "cell_type": "code",
      "source": [
        "theta_star = np.linalg.inv(X_train.T @ X_train) @ X_train.T @ y_train\n",
        "theta_clip = np.maximum(theta_star, 0)\n",
        "\n",
        "train_error = normalized_train_error(theta_clip)\n",
        "test_error = normalized_test_error(theta_clip)\n",
        "\n",
        "print(\"Normalized Train Error:\", train_error)\n",
        "print(\"Normalized Test Error:\", test_error)"
      ],
      "metadata": {
        "colab": {
          "base_uri": "https://localhost:8080/"
        },
        "id": "43SMS3JV6urv",
        "outputId": "ea606725-6c05-449e-9326-c23b677c392e"
      },
      "id": "43SMS3JV6urv",
      "execution_count": null,
      "outputs": [
        {
          "output_type": "stream",
          "name": "stdout",
          "text": [
            "Normalized Train Error: 0.2291043785801421\n",
            "Normalized Test Error: 0.20796809520319903\n"
          ]
        }
      ]
    },
    {
      "cell_type": "markdown",
      "id": "31875a1b",
      "metadata": {
        "id": "31875a1b"
      },
      "source": [
        "2. (10 points) Now, to help with the generalization to the test set, add a secondary objective, with positive weight $\\lambda$, that penalizes the squared 2-norm of $\\theta$, i.e., $\\lambda \\|\\theta\\|_2^2$. Write the equation that you need to solve to compute the optimal $\\theta^\\star$."
      ]
    },
    {
      "cell_type": "markdown",
      "source": [
        "3. (10 points) Form the optimization problem from part A.2 with `X_train` and `y_train`. For each $\\lambda \\in \\{0.1, 1, 10, 100, 1000\\}$, solve the problem and clip the negative values from $\\theta^\\star$. Report the normalized train and test error for each value of $\\lambda$. What do you notice?"
      ],
      "metadata": {
        "id": "9kEs9HSSOf3d"
      },
      "id": "9kEs9HSSOf3d"
    },
    {
      "cell_type": "code",
      "source": [
        "lam = [0.1, 1, 10, 100, 1000]\n",
        "results = []\n",
        "\n",
        "for lambda_val in lam:\n",
        "    theta_optimal = np.linalg.inv(X_train.T @ X_train + lambda_val * np.identity(X_train.shape[1])) @ X_train.T @ y_train\n",
        "    theta_clip = np.maximum(theta_optimal, 0)\n",
        "\n",
        "    train_error = normalized_train_error(theta_clip)\n",
        "    test_error = normalized_test_error(theta_clip)\n",
        "\n",
        "    results.append((lambda_val, train_error, test_error))\n",
        "\n",
        "print(\"Lambda\\t\\tTrain Error\\tTest Error\")\n",
        "for result in results:\n",
        "    print(f\"{result[0]}\\t\\t{result[1]}\\t{result[2]}\")"
      ],
      "metadata": {
        "colab": {
          "base_uri": "https://localhost:8080/"
        },
        "id": "UuVwEVTgOtK7",
        "outputId": "140ff9ff-e54a-4a7c-bbd1-bcfcfd10d290"
      },
      "id": "UuVwEVTgOtK7",
      "execution_count": null,
      "outputs": [
        {
          "output_type": "stream",
          "name": "stdout",
          "text": [
            "Lambda\t\tTrain Error\tTest Error\n",
            "0.1\t\t0.2288924190871878\t0.20768086495220503\n",
            "1\t\t0.22718046993188973\t0.2053338409203093\n",
            "10\t\t0.2199390710654533\t0.19420966059918626\n",
            "100\t\t0.2278236793942819\t0.19643049042016367\n",
            "1000\t\t0.26555010155807723\t0.23545684652459656\n"
          ]
        }
      ]
    },
    {
      "cell_type": "markdown",
      "source": [
        "As lambda increases, the train and test errors show a fluctuating trend. For lambda values of 10 and 100, the errors decrease and are among the lowest in this set of lambda values which could suggest it is a good balance. When lambda is 0.1 and 1 the errors are slightly higher could be signs of overfitting as too many parameters relative to the available training data are available and when lambda is 1000, it increases much more indicating underfitting as the model becomes too constrained."
      ],
      "metadata": {
        "id": "nNYVwcqbNuJp"
      },
      "id": "nNYVwcqbNuJp"
    },
    {
      "cell_type": "markdown",
      "id": "5f996736",
      "metadata": {
        "id": "5f996736"
      },
      "source": [
        "## Part B: Linear Programming (35 Points)"
      ]
    },
    {
      "cell_type": "markdown",
      "id": "79bd42d5",
      "metadata": {
        "id": "79bd42d5"
      },
      "source": [
        "Your other cousin, is a consultant and took ORF307 a few years ago. He told you that solving a linear program (LP) works much better for this problem.\n",
        "\n",
        "1. (5 points) Replace the least squares objective with an $\\ell_1$-norm objective on the training residual $r = X\\theta - y$, subject to nonnegativity constraints on $\\theta$, and add an $\\ell_1$-norm penalty on $\\theta$ scaled by $\\lambda$. Write down the problem you obtain. Next, formulate and solve the problem in CVXPY over training data `X_train` and `y_train`, for $\\lambda = 2$, and report the objective and $\\theta$ values. Also report the normalized train and test errors."
      ]
    },
    {
      "cell_type": "code",
      "source": [
        "lam = 2\n",
        "\n",
        "# optimization problem\n",
        "theta_star = cp.Variable(n, nonneg = True)\n",
        "residual = X_train @ theta_star - y_train\n",
        "\n",
        "objective = cp.Minimize(cp.norm(residual, 1) + lam * cp.norm(theta_star, 1))\n",
        "constraints = [theta_star >= 0]\n",
        "\n",
        "problem = cp.Problem(objective, constraints)\n",
        "problem.solve()\n",
        "\n",
        "# optimal objective and theta values\n",
        "opt_objective = problem.value\n",
        "\n",
        "# normalized train and test errors\n",
        "train_error = normalized_train_error(theta_star.value)\n",
        "test_error = normalized_test_error(theta_star.value)\n",
        "\n",
        "print(\"Optimal Objective Value: \", opt_objective)\n",
        "print(\"Theta Star: \", theta_star.value)\n",
        "print(\"Normalized Train Error: \", train_error)\n",
        "print(\"Normalized Test Error: \", test_error)"
      ],
      "metadata": {
        "id": "jIs1S8VpR-qp",
        "colab": {
          "base_uri": "https://localhost:8080/"
        },
        "outputId": "9decccb1-fce7-4bd1-884b-73ee3eb2dcd8"
      },
      "id": "jIs1S8VpR-qp",
      "execution_count": null,
      "outputs": [
        {
          "output_type": "stream",
          "name": "stdout",
          "text": [
            "Optimal Objective Value:  358.7862182370352\n",
            "Theta Star:  [0.     0.2396 0.1104 0.99   0.4726 0.3587 0.226  0.2545 0.603  0.1916\n",
            " 0.7438 0.2956]\n",
            "Normalized Train Error:  0.2197279712865134\n",
            "Normalized Test Error:  0.19157448596906626\n"
          ]
        }
      ]
    },
    {
      "cell_type": "markdown",
      "id": "bfcb7243",
      "metadata": {
        "id": "bfcb7243"
      },
      "source": [
        "2. (5 points) Write the above problem as an LP."
      ]
    },
    {
      "cell_type": "markdown",
      "source": [
        "LP primal\n",
        "$$\n",
        "\\begin{array}{ll}\n",
        "    \\text{minimize} \\\\ u\\mathbb{1}^T + λw\\mathbb{1}^T\\\\ \\\\\n",
        "    \\text{subject to} \\\\(x\\theta-y)-u \\leq 0 & \\\\ -(x\\theta-y)-u \\leq 0 \\\\ \\theta-w\n",
        "    \\leq 0 \\\\ -\\theta-w \\leq 0 \\\\\n",
        "\\end{array}\n",
        "$$"
      ],
      "metadata": {
        "id": "BTavYgIbLL84"
      },
      "id": "BTavYgIbLL84"
    },
    {
      "cell_type": "markdown",
      "id": "6cdfaf5c",
      "metadata": {
        "id": "6cdfaf5c"
      },
      "source": [
        "3. (10 points) Take the dual of the LP.\n"
      ]
    },
    {
      "cell_type": "markdown",
      "source": [
        "LP taking the dual\n",
        "$$\n",
        "\\begin{array}{ll}\n",
        "    \\text{maximize} \\\\ -b_1^Ty + λb_2^Ty\\\\ \\\\\n",
        "    \\text{subject to} \\\\ λ\\mathbb{1}^T+b_1^T-b_2^Tx\\geq 0 \\\\ \\mathbb{1}^T-b_1^T-b_2^T\\geq 0 &  & \\\\\n",
        "    b_1,b_2 \\geq 0\n",
        "\\end{array}\n",
        "$$"
      ],
      "metadata": {
        "id": "DQ5ve27yoP_u"
      },
      "id": "DQ5ve27yoP_u"
    },
    {
      "cell_type": "markdown",
      "id": "7a5dd745",
      "metadata": {
        "id": "7a5dd745"
      },
      "source": [
        "4. (5 points) For $\\lambda = 2$, solve the primal and dual LPs with cvxpy, and verify the zero duality gap (up to numerical precision). Verify, for the primal, that you obtain the same solution and normalized train and test errors as in B.1. Compare the train and test errors to the ones obtained with least squares in part A."
      ]
    },
    {
      "cell_type": "code",
      "source": [
        "# primal problem\n",
        "lam = 2\n",
        "theta_star = cp.Variable(n, nonneg=True)\n",
        "u = cp.Variable(m)\n",
        "w = cp.Variable(n)\n",
        "\n",
        "# objective function\n",
        "objective_p = cp.Minimize(cp.sum(u) + lam * cp.sum(w))\n",
        "\n",
        "# constraints\n",
        "constraints_p = [\n",
        "    (X_train @ theta_star - y_train) - u <= 0,\n",
        "    -(X_train @ theta_star - y_train) - u <= 0,\n",
        "    theta_star - w <= 0,\n",
        "    -theta_star - w <= 0\n",
        "]\n",
        "\n",
        "primal_problem = cp.Problem(objective_p, constraints_p)\n",
        "primal_result = primal_problem.solve()\n",
        "print('primal:', primal_result)"
      ],
      "metadata": {
        "colab": {
          "base_uri": "https://localhost:8080/"
        },
        "id": "udr4cVTCrEem",
        "outputId": "8bebcab6-9102-40a4-9e4b-69ce771cfd17"
      },
      "id": "udr4cVTCrEem",
      "execution_count": null,
      "outputs": [
        {
          "output_type": "stream",
          "name": "stdout",
          "text": [
            "primal: 358.78621823127503\n"
          ]
        }
      ]
    },
    {
      "cell_type": "code",
      "source": [
        "# taking dual\n",
        "z1 = cp.Variable(m)\n",
        "z2 = cp.Variable(m)\n",
        "lmbda = cp.Variable()\n",
        "\n",
        "# objective Function\n",
        "objective_d = cp.Maximize((-z1 @ y_train) + z2 @ y_train)\n",
        "\n",
        "# constraints\n",
        "constraints_d = [\n",
        "    lam * np.ones(n) + z1 @ X_train - z2 @ X_train >= 0,\n",
        "    np.ones(m) - z1 - z2 >= 0,\n",
        "    z1 >= 0,\n",
        "    z2 >= 0,\n",
        "]\n",
        "\n",
        "dual_problem = cp.Problem(objective_d, constraints_d)\n",
        "dual_result = dual_problem.solve()\n",
        "print('duality:', dual_result)"
      ],
      "metadata": {
        "colab": {
          "base_uri": "https://localhost:8080/"
        },
        "id": "Q6eY77LRyEG7",
        "outputId": "1752803e-cf7b-4ede-f143-1dfcbca15965"
      },
      "id": "Q6eY77LRyEG7",
      "execution_count": null,
      "outputs": [
        {
          "output_type": "stream",
          "name": "stdout",
          "text": [
            "duality: 358.786218229877\n"
          ]
        }
      ]
    },
    {
      "cell_type": "code",
      "source": [
        "#calculate the duality gap\n",
        "duality_gap = round((primal_result - dual_result), 4)\n",
        "print('duality gap:', duality_gap)\n",
        "\n",
        "print(\"Normalized Train Error: \", train_error)\n",
        "print(\"Normalized Test Error: \", test_error)"
      ],
      "metadata": {
        "colab": {
          "base_uri": "https://localhost:8080/"
        },
        "id": "Lz7n3N_O6KeL",
        "outputId": "bee43c86-3330-4ddb-c91f-66e848d06492"
      },
      "id": "Lz7n3N_O6KeL",
      "execution_count": null,
      "outputs": [
        {
          "output_type": "stream",
          "name": "stdout",
          "text": [
            "duality gap: 0.0\n",
            "Normalized Train Error:  0.2197279712865134\n",
            "Normalized Test Error:  0.19157448596906626\n"
          ]
        }
      ]
    },
    {
      "cell_type": "markdown",
      "source": [
        "The Errors are slightly different since in part A we clip but in B we constraint them to always zero\n",
        "The train and test errors obtained with the ℓ1-norm objective and nonnegativity constraints are lower than the ones obtained with the least squares method. This indicates improved generalization performance with the ℓ1-norm approach, which promotes sparsity and feature selection. Therefore, the ℓ1-norm objective might be a better approach for this problem."
      ],
      "metadata": {
        "id": "56YueyIVX-nl"
      },
      "id": "56YueyIVX-nl"
    },
    {
      "cell_type": "markdown",
      "id": "624fe03e",
      "metadata": {
        "id": "624fe03e"
      },
      "source": [
        "5. (6 points) Let's look at the sensitivity of the solution with respect to $\\lambda$. Let the $\\ell_1$ regularizer be scaled instead by $\\lambda + \\epsilon$, where $\\lambda=2$. Give an expression for the primal optimal solution $p^\\star(\\epsilon)$ around $\\epsilon = 0$, in terms of the variables in B.2 and/or B.3. In terms of global sensitivity, is this expression an upper or lower bound of the true primal solution after perturbing $\\lambda$? Explain why. Verify this by plotting the true objective values as well as the estimated objective values, for $\\epsilon$ taking 100 values in the range $[-2,40]$ (you can use `np.linspace(-2,40,100)`)."
      ]
    },
    {
      "cell_type": "code",
      "source": [
        "epsilon_values = np.linspace(-2, 40, 100)\n",
        "\n",
        "true_objectives = []\n",
        "estimated_objectives = []\n",
        "\n",
        "lam = 2\n",
        "theta_star = cp.Variable(n, nonneg=True)\n",
        "\n",
        "for epsilon in epsilon_values:\n",
        "    lams = lam + epsilon\n",
        "    true_objective_p = cp.Minimize(cp.sum(u) + lams * cp.sum(w))\n",
        "    true_constraints_p = [\n",
        "        (X_train @ theta_star - y_train) - u <= 0,\n",
        "        -(X_train @ theta_star - y_train) - u <= 0,\n",
        "        theta_star - w <= 0,\n",
        "        -theta_star - w <= 0\n",
        "    ]\n",
        "\n",
        "    new_problem = cp.Problem(true_objective_p, true_constraints_p)\n",
        "    new_problem.solve()\n",
        "    true_objectives.append(new_problem.value)\n",
        "\n",
        "    p_star = primal_result + epsilon * np.ones(n) @ theta_star.value\n",
        "    estimated_objectives.append(p_star)\n",
        "\n",
        "plt.plot(epsilon_values, true_objectives, label='True Objective')\n",
        "plt.plot(epsilon_values, estimated_objectives, label='Estimated Objective')\n",
        "plt.xlabel('Epsilon')\n",
        "plt.ylabel('Objective Values')\n",
        "plt.legend()\n",
        "plt.title('True and Estimated Objective Values vs Epsilon')\n",
        "plt.show()"
      ],
      "metadata": {
        "colab": {
          "base_uri": "https://localhost:8080/",
          "height": 472
        },
        "id": "8pRNGCT2D6QA",
        "outputId": "2f872327-d313-4a9e-e0de-2efb11159b7a"
      },
      "id": "8pRNGCT2D6QA",
      "execution_count": null,
      "outputs": [
        {
          "output_type": "display_data",
          "data": {
            "text/plain": [
              "<Figure size 640x480 with 1 Axes>"
            ],
            "image/png": "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\n"
          },
          "metadata": {}
        }
      ]
    },
    {
      "cell_type": "markdown",
      "source": [
        "Through the graph and equation with context, we can determine that increasing paramerter epsilon/perturbating it, will amplify the weight of the regularization term in the objective function and will give us larger estimated primal values. The estimated objective values will act as an upper bound for these reasons considering global sensitivity."
      ],
      "metadata": {
        "id": "QM3RP7wpoExP"
      },
      "id": "QM3RP7wpoExP"
    },
    {
      "cell_type": "markdown",
      "id": "5089ff39",
      "metadata": {
        "id": "5089ff39"
      },
      "source": [
        "6. (4 points) For the set-up in problem B.5, plot the normalized train and test errors for the true optimal solutions, as a function of $\\epsilon$ in the range $[-2,40]$. In a separate graph, plot also the 1-norm of the $\\theta$ values obtained. Comment on both trends. Do they corroborate your findings from part A?"
      ]
    },
    {
      "cell_type": "code",
      "source": [
        "epsilon_values = np.linspace(-2, 40, 100)\n",
        "\n",
        "train_errors = []\n",
        "test_errors = []\n",
        "theta_norms = []\n",
        "\n",
        "for epsilon in epsilon_values:\n",
        "    lam = 2\n",
        "    lams = lam + epsilon\n",
        "\n",
        "    # primal problem\n",
        "    theta = cp.Variable(n)\n",
        "    objective = cp.norm(X_train @ theta_star - y_train, 1) + lams * cp.norm(theta_star, 1)\n",
        "    problem = cp.Problem(cp.Minimize(objective))\n",
        "    problem.solve()\n",
        "\n",
        "    # 1-norm of theta\n",
        "    theta_norm = (np.linalg.norm(theta_star.value, ord=1))\n",
        "\n",
        "    train_errors.append(normalized_train_error(theta_star.value))\n",
        "    test_errors.append(normalized_test_error(theta_star.value))\n",
        "    theta_norms.append(np.linalg.norm(theta_star.value, 1))\n",
        "\n",
        "plt.plot(epsilon_values, train_errors, label='Train Error')\n",
        "plt.plot(epsilon_values, test_errors, label='Test Error')\n",
        "plt.xlabel('Epsilon')\n",
        "plt.ylabel('Normalized Error')\n",
        "plt.title('Normalized Train and Test Errors')\n",
        "plt.legend()\n",
        "plt.grid(True)\n",
        "plt.show()\n",
        "\n",
        "plt.plot(epsilon_values, theta_norms)\n",
        "plt.xlabel('Epsilon')\n",
        "plt.ylabel('1-norm of Theta')\n",
        "plt.title('1-norm of Theta Values')\n",
        "plt.grid(True)\n",
        "plt.show()"
      ],
      "metadata": {
        "colab": {
          "base_uri": "https://localhost:8080/",
          "height": 927
        },
        "id": "o39glLfjWyfW",
        "outputId": "979e51f3-6a89-46c7-c227-0e3191eb9efd"
      },
      "id": "o39glLfjWyfW",
      "execution_count": null,
      "outputs": [
        {
          "output_type": "display_data",
          "data": {
            "text/plain": [
              "<Figure size 640x480 with 1 Axes>"
            ],
            "image/png": "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\n"
          },
          "metadata": {}
        },
        {
          "output_type": "display_data",
          "data": {
            "text/plain": [
              "<Figure size 640x480 with 1 Axes>"
            ],
            "image/png": "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\n"
          },
          "metadata": {}
        }
      ]
    },
    {
      "cell_type": "markdown",
      "source": [
        "The trends observed in the normalized errors and the 1-norm of 𝜃 values corroborate the findings from part A, showing the trade-off between regularization and performance. Increasing 𝜆 initially improves generalization, but excessive regularization leads to higher errors. The 1-norm increases with 𝜆, indicating sparser models."
      ],
      "metadata": {
        "id": "H9QzMKdQXsi2"
      },
      "id": "H9QzMKdQXsi2"
    },
    {
      "cell_type": "markdown",
      "id": "b19a3402",
      "metadata": {
        "id": "b19a3402"
      },
      "source": [
        "## Part C: Integer Programming (35 Points)"
      ]
    },
    {
      "cell_type": "markdown",
      "id": "6e6f7341",
      "metadata": {
        "id": "6e6f7341"
      },
      "source": [
        "You are probably smarter than both your cousins and you think that only a few of these features actually matter. For this part, you will impose the constraint that at most $k$ of the values in $\\theta$ are strictly positive."
      ]
    },
    {
      "cell_type": "markdown",
      "id": "7de5f099",
      "metadata": {
        "id": "7de5f099"
      },
      "source": [
        "1. (5 points) Formulate the new constraint in terms of the *cardinality* of $\\theta$.\n",
        "We define cardinality of a vector $\\theta$ the number of non-zero components of the vector $\\theta$.\n",
        "We denote it as $\\textbf{card}(\\theta)$.\n",
        "Write the new optimization problem where we minimize the $\\ell_1$-norm of the training residual $r = X\\theta - y$, subject to $\\theta$ being nonnegative and cardinality of $\\theta$ being at most $k$."
      ]
    },
    {
      "cell_type": "markdown",
      "id": "4221d59f",
      "metadata": {
        "id": "4221d59f"
      },
      "source": [
        "2. (5 points) Formulate the new problem with the cardinality constraints as a mixed-integer optimization problem (MIP) using the big-$M$ method. You do not need to compute $M$ explicitly; you may just assume that it is a sufficiently large constant."
      ]
    },
    {
      "cell_type": "markdown",
      "id": "46e434ba",
      "metadata": {
        "id": "46e434ba"
      },
      "source": [
        "3. (10 points) Solve the MIP, over training data `X_train` and `y_train`, for all possible $k \\in \\{1, 2, \\ldots, 11\\}$ using the SCIPY (HIGHS) solver (by calling `problem.solve(solver=cp.SCIPY)`) and plot the normalized test and train errors vs k. Use the same solver and the value $M=100$ to solve all the remaining questions in this part."
      ]
    },
    {
      "cell_type": "code",
      "source": [
        "import numpy as np\n",
        "import cvxpy as cp\n",
        "\n",
        "k_values = range(1, 12)\n",
        "results = []\n",
        "train_error = []\n",
        "test_error = []\n",
        "\n",
        "for k in k_values:\n",
        "    theta_star = cp.Variable(X_train.shape[1])\n",
        "    z = cp.Variable(X_train.shape[1], boolean=True)\n",
        "\n",
        "    M = 100\n",
        "\n",
        "    objective = cp.norm(X_train @ theta_star - y_train, 1)\n",
        "    constraints = [\n",
        "        theta_star >= 0,\n",
        "        theta_star <= M * z,\n",
        "        cp.sum(z) <= k\n",
        "    ]\n",
        "    problem = cp.Problem(cp.Minimize(objective), constraints)\n",
        "    problem.solve(solver=cp.SCIPY)\n",
        "\n",
        "    train_error.append(normalized_train_error(theta_star.value))\n",
        "    test_error.append(normalized_test_error(theta_star.value))\n",
        "\n",
        "    results.append((k, train_error, test_error))\n",
        "\n",
        "    if k == 6:\n",
        "        print(\"Theta_star value when k is 6:\")\n",
        "        print(theta_star.value)\n",
        "\n",
        "print(results)"
      ],
      "metadata": {
        "id": "ZUv3n-EQSSui",
        "colab": {
          "base_uri": "https://localhost:8080/"
        },
        "outputId": "66bb8252-2e28-4e4c-e911-21336865e356"
      },
      "id": "ZUv3n-EQSSui",
      "execution_count": null,
      "outputs": [
        {
          "output_type": "stream",
          "name": "stdout",
          "text": [
            "Theta_star value when k is 6:\n",
            "[-0.      0.2999 -0.      1.2012  0.5353 -0.     -0.     -0.      0.679\n",
            "  0.1879  0.9255 -0.    ]\n",
            "[(1, [0.35625324361525607, 0.2750989083856518, 0.25670251179107506, 0.24588950483151975, 0.23455344711846368, 0.23005739147897108, 0.22512541325527358, 0.22311009466409032, 0.22146140195621586, 0.220954344795114, 0.21934395897315767], [0.33437046683899757, 0.24807737676210043, 0.2213774912141954, 0.21352642454909027, 0.20377638400437187, 0.1984023486534183, 0.1978439882936286, 0.19534774514060446, 0.1914340840005968, 0.1949831664660933, 0.19190129482703766]), (2, [0.35625324361525607, 0.2750989083856518, 0.25670251179107506, 0.24588950483151975, 0.23455344711846368, 0.23005739147897108, 0.22512541325527358, 0.22311009466409032, 0.22146140195621586, 0.220954344795114, 0.21934395897315767], [0.33437046683899757, 0.24807737676210043, 0.2213774912141954, 0.21352642454909027, 0.20377638400437187, 0.1984023486534183, 0.1978439882936286, 0.19534774514060446, 0.1914340840005968, 0.1949831664660933, 0.19190129482703766]), (3, [0.35625324361525607, 0.2750989083856518, 0.25670251179107506, 0.24588950483151975, 0.23455344711846368, 0.23005739147897108, 0.22512541325527358, 0.22311009466409032, 0.22146140195621586, 0.220954344795114, 0.21934395897315767], [0.33437046683899757, 0.24807737676210043, 0.2213774912141954, 0.21352642454909027, 0.20377638400437187, 0.1984023486534183, 0.1978439882936286, 0.19534774514060446, 0.1914340840005968, 0.1949831664660933, 0.19190129482703766]), (4, [0.35625324361525607, 0.2750989083856518, 0.25670251179107506, 0.24588950483151975, 0.23455344711846368, 0.23005739147897108, 0.22512541325527358, 0.22311009466409032, 0.22146140195621586, 0.220954344795114, 0.21934395897315767], [0.33437046683899757, 0.24807737676210043, 0.2213774912141954, 0.21352642454909027, 0.20377638400437187, 0.1984023486534183, 0.1978439882936286, 0.19534774514060446, 0.1914340840005968, 0.1949831664660933, 0.19190129482703766]), (5, [0.35625324361525607, 0.2750989083856518, 0.25670251179107506, 0.24588950483151975, 0.23455344711846368, 0.23005739147897108, 0.22512541325527358, 0.22311009466409032, 0.22146140195621586, 0.220954344795114, 0.21934395897315767], [0.33437046683899757, 0.24807737676210043, 0.2213774912141954, 0.21352642454909027, 0.20377638400437187, 0.1984023486534183, 0.1978439882936286, 0.19534774514060446, 0.1914340840005968, 0.1949831664660933, 0.19190129482703766]), (6, [0.35625324361525607, 0.2750989083856518, 0.25670251179107506, 0.24588950483151975, 0.23455344711846368, 0.23005739147897108, 0.22512541325527358, 0.22311009466409032, 0.22146140195621586, 0.220954344795114, 0.21934395897315767], [0.33437046683899757, 0.24807737676210043, 0.2213774912141954, 0.21352642454909027, 0.20377638400437187, 0.1984023486534183, 0.1978439882936286, 0.19534774514060446, 0.1914340840005968, 0.1949831664660933, 0.19190129482703766]), (7, [0.35625324361525607, 0.2750989083856518, 0.25670251179107506, 0.24588950483151975, 0.23455344711846368, 0.23005739147897108, 0.22512541325527358, 0.22311009466409032, 0.22146140195621586, 0.220954344795114, 0.21934395897315767], [0.33437046683899757, 0.24807737676210043, 0.2213774912141954, 0.21352642454909027, 0.20377638400437187, 0.1984023486534183, 0.1978439882936286, 0.19534774514060446, 0.1914340840005968, 0.1949831664660933, 0.19190129482703766]), (8, [0.35625324361525607, 0.2750989083856518, 0.25670251179107506, 0.24588950483151975, 0.23455344711846368, 0.23005739147897108, 0.22512541325527358, 0.22311009466409032, 0.22146140195621586, 0.220954344795114, 0.21934395897315767], [0.33437046683899757, 0.24807737676210043, 0.2213774912141954, 0.21352642454909027, 0.20377638400437187, 0.1984023486534183, 0.1978439882936286, 0.19534774514060446, 0.1914340840005968, 0.1949831664660933, 0.19190129482703766]), (9, [0.35625324361525607, 0.2750989083856518, 0.25670251179107506, 0.24588950483151975, 0.23455344711846368, 0.23005739147897108, 0.22512541325527358, 0.22311009466409032, 0.22146140195621586, 0.220954344795114, 0.21934395897315767], [0.33437046683899757, 0.24807737676210043, 0.2213774912141954, 0.21352642454909027, 0.20377638400437187, 0.1984023486534183, 0.1978439882936286, 0.19534774514060446, 0.1914340840005968, 0.1949831664660933, 0.19190129482703766]), (10, [0.35625324361525607, 0.2750989083856518, 0.25670251179107506, 0.24588950483151975, 0.23455344711846368, 0.23005739147897108, 0.22512541325527358, 0.22311009466409032, 0.22146140195621586, 0.220954344795114, 0.21934395897315767], [0.33437046683899757, 0.24807737676210043, 0.2213774912141954, 0.21352642454909027, 0.20377638400437187, 0.1984023486534183, 0.1978439882936286, 0.19534774514060446, 0.1914340840005968, 0.1949831664660933, 0.19190129482703766]), (11, [0.35625324361525607, 0.2750989083856518, 0.25670251179107506, 0.24588950483151975, 0.23455344711846368, 0.23005739147897108, 0.22512541325527358, 0.22311009466409032, 0.22146140195621586, 0.220954344795114, 0.21934395897315767], [0.33437046683899757, 0.24807737676210043, 0.2213774912141954, 0.21352642454909027, 0.20377638400437187, 0.1984023486534183, 0.1978439882936286, 0.19534774514060446, 0.1914340840005968, 0.1949831664660933, 0.19190129482703766])]\n"
          ]
        }
      ]
    },
    {
      "cell_type": "code",
      "source": [
        "plt.plot(k_values, train_error, marker = 'o', label='Train Error')\n",
        "plt.plot(k_values, test_error, marker = 'o', label='Test Error')\n",
        "plt.xlabel('k')\n",
        "plt.ylabel('normalized test and train errors')\n",
        "plt.title('normalized test and train errors vs k')\n",
        "plt.show()"
      ],
      "metadata": {
        "colab": {
          "base_uri": "https://localhost:8080/",
          "height": 472
        },
        "id": "-ZCemNKMyw_S",
        "outputId": "9983c649-c942-4e4c-c3a2-f25f939b8516"
      },
      "id": "-ZCemNKMyw_S",
      "execution_count": null,
      "outputs": [
        {
          "output_type": "display_data",
          "data": {
            "text/plain": [
              "<Figure size 640x480 with 1 Axes>"
            ],
            "image/png": "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\n"
          },
          "metadata": {}
        }
      ]
    },
    {
      "cell_type": "markdown",
      "id": "452ff4db",
      "metadata": {
        "id": "452ff4db"
      },
      "source": [
        "4. (10 points) Consider now the $\\ell_1$-regression model with a penalty on the number of components, i.e.\n",
        "\n",
        "$$\n",
        "\\begin{array}{ll}\n",
        "    \\text{minimize} & \\lVert X\\theta - y \\rVert_1 + \\lambda \\cdot \\textbf{card}(\\theta) \\\\\n",
        "    \\text{subject to} & \\theta \\geq 0.\n",
        "\\end{array}\n",
        "$$\n",
        "\n",
        "Formulate the problem with the big-$M$ formulation to represent the cardinality. Find the solution of this problem with CVXPY for 32 evenly spaced $\\lambda \\in [0,8]$ (you can define the $\\lambda$ values with `np.linspace(0, 8, 32)`). Then plot the normalized train and test errors vs $\\lambda$ and $\\textbf{card}(\\theta)$ of the solution found vs $\\lambda$. This should take at most a few minutes to run."
      ]
    },
    {
      "cell_type": "code",
      "source": [
        "lambda_values = np.linspace(0, 8, 32)\n",
        "\n",
        "test_errors = np.zeros(len(lambda_values))\n",
        "train_errors = np.zeros(len(lambda_values))\n",
        "cardinality = np.zeros(len(lambda_values))\n",
        "\n",
        "for i, lam in enumerate(lambda_values):\n",
        "    # optimization problem\n",
        "    theta = cp.Variable(X_train.shape[1])\n",
        "    z = cp.Variable(X_train.shape[1], boolean=True)\n",
        "    M = 100\n",
        "\n",
        "    objective = cp.Minimize(cp.norm(X_train @ theta - y_train, 1) + lam * cp.sum(z))\n",
        "    constraints = [\n",
        "        theta >= 0,\n",
        "        theta <= M * z,\n",
        "        z >= 0,\n",
        "        z <= 1\n",
        "    ]\n",
        "    problem = cp.Problem(objective, constraints)\n",
        "\n",
        "    problem.solve(solver=cp.SCIPY)\n",
        "\n",
        "    # optimal theta values and cardinality\n",
        "    theta_opt = theta.value\n",
        "    cardinality[i] = np.sum(z.value)\n",
        "\n",
        "    # normalized errors\n",
        "    test_errors[i] = normalized_test_error(theta_opt)\n",
        "    train_errors[i] = normalized_train_error(theta_opt)\n",
        "\n",
        "plt.plot(lambda_values, test_errors, marker = 'o', label='Normalized Test Error')\n",
        "plt.plot(lambda_values, train_errors, marker = 'o', label='Normalized Train Error')\n",
        "plt.xlabel('Lambda')\n",
        "plt.ylabel('Normalized Error')\n",
        "plt.title('Normalized Test and Train Errors vs Lambda')\n",
        "plt.legend()\n",
        "plt.show()\n",
        "\n",
        "plt.plot(lambda_values, cardinality, marker = 'o')\n",
        "plt.xlabel('Lambda')\n",
        "plt.ylabel('Cardinality')\n",
        "plt.title('Cardinality of the Solution vs Lambda')\n",
        "plt.show()"
      ],
      "metadata": {
        "colab": {
          "base_uri": "https://localhost:8080/",
          "height": 927
        },
        "id": "QmojR7EH3Trj",
        "outputId": "61e25c3e-5959-4d8d-d9ed-c00463d9360b"
      },
      "id": "QmojR7EH3Trj",
      "execution_count": null,
      "outputs": [
        {
          "output_type": "display_data",
          "data": {
            "text/plain": [
              "<Figure size 640x480 with 1 Axes>"
            ],
            "image/png": "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\n"
          },
          "metadata": {}
        },
        {
          "output_type": "display_data",
          "data": {
            "text/plain": [
              "<Figure size 640x480 with 1 Axes>"
            ],
            "image/png": "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\n"
          },
          "metadata": {}
        }
      ]
    },
    {
      "cell_type": "code",
      "source": [
        "print(test_errors)\n",
        "print(train_errors)"
      ],
      "metadata": {
        "colab": {
          "base_uri": "https://localhost:8080/"
        },
        "id": "5qXfQ1JD35p5",
        "outputId": "59deec01-ca30-468f-c4b3-ccc985b30f20"
      },
      "id": "5qXfQ1JD35p5",
      "execution_count": null,
      "outputs": [
        {
          "output_type": "stream",
          "name": "stdout",
          "text": [
            "[0.1919 0.1919 0.1919 0.1919 0.1919 0.1914 0.1914 0.1914 0.1914 0.1914\n",
            " 0.1914 0.1914 0.1914 0.1953 0.1978 0.1978 0.1978 0.1978 0.1978 0.1978\n",
            " 0.1978 0.1978 0.1978 0.1978 0.1978 0.2038 0.2038 0.2038 0.2038 0.2038\n",
            " 0.2038 0.2038]\n",
            "[0.2193 0.2193 0.2193 0.2193 0.2193 0.2215 0.2215 0.2215 0.2215 0.2215\n",
            " 0.2215 0.2215 0.2215 0.2231 0.2251 0.2251 0.2251 0.2251 0.2251 0.2251\n",
            " 0.2251 0.2251 0.2251 0.2251 0.2251 0.2346 0.2346 0.2346 0.2346 0.2346\n",
            " 0.2346 0.2346]\n"
          ]
        }
      ]
    },
    {
      "cell_type": "markdown",
      "id": "d0078002",
      "metadata": {
        "id": "d0078002"
      },
      "source": [
        "5. (5 points) Answer the following questions and explain why.\n",
        "  - What is the trend of the errors, what does it imply?\n",
        "  - There is a certain value of $k$ after which the test error decreases only by decrements smaller than 0.01. Which one? What does this mean? Which are the nonzeros of $\\theta$ in that case?\n",
        "  - How does the solution at point C.4 relate to the one at point C.3?"
      ]
    },
    {
      "cell_type": "markdown",
      "source": [
        "1.   As Lambda increases, the errors gradually increase, indicating a more regularized model. A higher Lambda imposes a stronger penalty on nonzero components, promoting sparsity. However, increased sparsity can lead to underfitting, resulting in higher errors on both training and test data. This suggests that the model becomes overly constrained, sacrificing too many components and limiting its ability to capture the underlying patterns in the data.\n",
        "2.   We noticed that after k value of 6, the test error decreases only by decrements smaller than 0.01. This means after including 6 features in the model, the predictive features do not get significantly better. The nonzeros of theta in this case includes area, bathroom, stories, ac, parking, and preferred area\n",
        "3. The change at point 6 in C.4 and C.3, indicate that 6 is a critical point/solution where increasing Lambda leads to a significant decline in model performance, characterized by higher errors, decreased cardinality, and limited improvement. This suggests that a balance needs to be struck between regularization (controlled by Lambda) and the complexity of the model (captured by the number of selected features, k) to achieve optimal performance."
      ],
      "metadata": {
        "id": "xw9UIahvKga0"
      },
      "id": "xw9UIahvKga0"
    },
    {
      "cell_type": "code",
      "source": [
        "# Colab2PDF v1.0.4 by Drengskapur (github.com/drengskapur/colab2pdf) (License: GPL-3.0-or-later)\n",
        "# @title {display-mode:\"form\"}\n",
        "# @markdown ⬇️ Download PDF\n",
        "def colab2pdf():\n",
        "    ENABLE=True # @param {type:\"boolean\"}\n",
        "    if ENABLE:\n",
        "        !apt-get install librsvg2-bin\n",
        "        import os, datetime, json, locale, pathlib, urllib, requests, werkzeug, nbformat, google, yaml, warnings\n",
        "        locale.setlocale(locale.LC_ALL, 'en_US.UTF-8')\n",
        "        NAME = pathlib.Path(werkzeug.utils.secure_filename(urllib.parse.unquote(requests.get(f\"http://{os.environ['COLAB_JUPYTER_IP']}:{os.environ['KMP_TARGET_PORT']}/api/sessions\").json()[0][\"name\"])))\n",
        "        TEMP = pathlib.Path(\"/content/pdfs\") / f\"{datetime.datetime.now().strftime('%Y%m%d_%H%M%S')}_{NAME.stem}\"; TEMP.mkdir(parents=True, exist_ok=True)\n",
        "        NB = [cell for cell in nbformat.reads(json.dumps(google.colab._message.blocking_request(\"get_ipynb\", timeout_sec=600)[\"ipynb\"]), as_version=4).cells if \"--Colab2PDF\" not in cell.source]\n",
        "        warnings.filterwarnings('ignore', category=nbformat.validator.MissingIDFieldWarning)\n",
        "        with (TEMP / f\"{NAME.stem}.ipynb\").open(\"w\", encoding=\"utf-8\") as nb_copy: nbformat.write(nbformat.v4.new_notebook(cells=NB or [nbformat.v4.new_code_cell(\"#\")]), nb_copy)\n",
        "        if not pathlib.Path(\"/usr/local/bin/quarto\").exists():\n",
        "            !wget -q \"https://quarto.org/download/latest/quarto-linux-amd64.deb\" -P {TEMP} && dpkg -i {TEMP}/quarto-linux-amd64.deb > /dev/null && quarto install tinytex --update-path --quiet\n",
        "        with (TEMP / \"config.yml\").open(\"w\", encoding=\"utf-8\") as file: yaml.dump({'include-in-header': [{\"text\": r\"\\usepackage{fvextra}\\DefineVerbatimEnvironment{Highlighting}{Verbatim}{breaksymbolleft={},showspaces=false,showtabs=false,breaklines,breakanywhere,commandchars=\\\\\\{\\}}\"}],'include-before-body': [{\"text\": r\"\\DefineVerbatimEnvironment{verbatim}{Verbatim}{breaksymbolleft={},showspaces=false,showtabs=false,breaklines}\"}]}, file)\n",
        "        !quarto render {TEMP}/{NAME.stem}.ipynb --metadata-file={TEMP}/config.yml --to pdf -M latex-auto-install -M margin-top=1in -M margin-bottom=1in -M margin-left=1in -M margin-right=1in --quiet\n",
        "        google.colab.files.download(str(TEMP / f\"{NAME.stem}.pdf\"))\n",
        "colab2pdf()"
      ],
      "metadata": {
        "id": "V0E-xOaMb-4e",
        "colab": {
          "base_uri": "https://localhost:8080/",
          "height": 106
        },
        "outputId": "bba94e66-a48e-4b08-afd8-5491f2ce7642"
      },
      "id": "V0E-xOaMb-4e",
      "execution_count": null,
      "outputs": [
        {
          "output_type": "stream",
          "name": "stdout",
          "text": [
            "Reading package lists... Done\n",
            "Building dependency tree... Done\n",
            "Reading state information... Done\n",
            "librsvg2-bin is already the newest version (2.52.5+dfsg-3ubuntu0.2).\n",
            "0 upgraded, 0 newly installed, 0 to remove and 45 not upgraded.\n"
          ]
        },
        {
          "output_type": "display_data",
          "data": {
            "text/plain": [
              "<IPython.core.display.Javascript object>"
            ],
            "application/javascript": [
              "\n",
              "    async function download(id, filename, size) {\n",
              "      if (!google.colab.kernel.accessAllowed) {\n",
              "        return;\n",
              "      }\n",
              "      const div = document.createElement('div');\n",
              "      const label = document.createElement('label');\n",
              "      label.textContent = `Downloading \"${filename}\": `;\n",
              "      div.appendChild(label);\n",
              "      const progress = document.createElement('progress');\n",
              "      progress.max = size;\n",
              "      div.appendChild(progress);\n",
              "      document.body.appendChild(div);\n",
              "\n",
              "      const buffers = [];\n",
              "      let downloaded = 0;\n",
              "\n",
              "      const channel = await google.colab.kernel.comms.open(id);\n",
              "      // Send a message to notify the kernel that we're ready.\n",
              "      channel.send({})\n",
              "\n",
              "      for await (const message of channel.messages) {\n",
              "        // Send a message to notify the kernel that we're ready.\n",
              "        channel.send({})\n",
              "        if (message.buffers) {\n",
              "          for (const buffer of message.buffers) {\n",
              "            buffers.push(buffer);\n",
              "            downloaded += buffer.byteLength;\n",
              "            progress.value = downloaded;\n",
              "          }\n",
              "        }\n",
              "      }\n",
              "      const blob = new Blob(buffers, {type: 'application/binary'});\n",
              "      const a = document.createElement('a');\n",
              "      a.href = window.URL.createObjectURL(blob);\n",
              "      a.download = filename;\n",
              "      div.appendChild(a);\n",
              "      a.click();\n",
              "      div.remove();\n",
              "    }\n",
              "  "
            ]
          },
          "metadata": {}
        },
        {
          "output_type": "display_data",
          "data": {
            "text/plain": [
              "<IPython.core.display.Javascript object>"
            ],
            "application/javascript": [
              "download(\"download_a2b4709c-260d-4b09-96bb-394af89b4768\", \"2024_final_project.pdf\", 44720)"
            ]
          },
          "metadata": {}
        }
      ]
    }
  ],
  "metadata": {
    "kernelspec": {
      "display_name": "Python 3 (ipykernel)",
      "language": "python",
      "name": "python3"
    },
    "language_info": {
      "codemirror_mode": {
        "name": "ipython",
        "version": 3
      },
      "file_extension": ".py",
      "mimetype": "text/x-python",
      "name": "python",
      "nbconvert_exporter": "python",
      "pygments_lexer": "ipython3",
      "version": "3.9.13"
    },
    "colab": {
      "provenance": [],
      "include_colab_link": true
    }
  },
  "nbformat": 4,
  "nbformat_minor": 5
}
